{
  "nbformat": 4,
  "nbformat_minor": 0,
  "metadata": {
    "colab": {
      "provenance": []
    },
    "kernelspec": {
      "name": "python3",
      "display_name": "Python 3"
    },
    "language_info": {
      "name": "python"
    }
  },
  "cells": [
    {
      "cell_type": "code",
      "execution_count": null,
      "metadata": {
        "colab": {
          "base_uri": "https://localhost:8080/"
        },
        "id": "wi4-U00M7lR0",
        "outputId": "25d162e6-9a19-46be-c9e0-722d366eab82"
      },
      "outputs": [
        {
          "output_type": "stream",
          "name": "stdout",
          "text": [
            "Mounted at /content/mydrive/\n"
          ]
        }
      ],
      "source": [
        "from google.colab import drive\n",
        "drive.mount(\"/content/mydrive/\")"
      ]
    },
    {
      "cell_type": "code",
      "source": [
        "csv_path = '/content/mydrive/MyDrive/creditcard.csv'"
      ],
      "metadata": {
        "id": "j7G24B6i8SJx"
      },
      "execution_count": null,
      "outputs": []
    },
    {
      "cell_type": "code",
      "source": [
        "import numpy as np\n",
        "import pandas as pd\n",
        "import matplotlib.pyplot as plt\n",
        "import seaborn as sns\n",
        "\n",
        "from sklearn.decomposition import PCA\n",
        "from sklearn.preprocessing import StandardScaler\n",
        "from sklearn.model_selection import train_test_split\n",
        "from sklearn.metrics import confusion_matrix\n",
        "from sklearn.metrics import accuracy_score\n",
        "from sklearn.metrics import classification_report,confusion_matrix\n",
        "\n",
        "import warnings\n",
        "warnings.filterwarnings(\"ignore\")"
      ],
      "metadata": {
        "id": "VAdAFfiP8ax-"
      },
      "execution_count": null,
      "outputs": []
    },
    {
      "cell_type": "code",
      "source": [
        "df = pd.read_csv(csv_path)"
      ],
      "metadata": {
        "id": "hz1KLEl295oB"
      },
      "execution_count": null,
      "outputs": []
    },
    {
      "cell_type": "code",
      "source": [
        "df.head()"
      ],
      "metadata": {
        "colab": {
          "base_uri": "https://localhost:8080/",
          "height": 299
        },
        "id": "OrXWLnJA-IM_",
        "outputId": "9837b00a-58ec-4276-8dfd-e78283993083"
      },
      "execution_count": null,
      "outputs": [
        {
          "output_type": "execute_result",
          "data": {
            "text/plain": [
              "   Time        V1        V2        V3        V4        V5        V6        V7  \\\n",
              "0   0.0 -1.359807 -0.072781  2.536347  1.378155 -0.338321  0.462388  0.239599   \n",
              "1   0.0  1.191857  0.266151  0.166480  0.448154  0.060018 -0.082361 -0.078803   \n",
              "2   1.0 -1.358354 -1.340163  1.773209  0.379780 -0.503198  1.800499  0.791461   \n",
              "3   1.0 -0.966272 -0.185226  1.792993 -0.863291 -0.010309  1.247203  0.237609   \n",
              "4   2.0 -1.158233  0.877737  1.548718  0.403034 -0.407193  0.095921  0.592941   \n",
              "\n",
              "         V8        V9  ...       V21       V22       V23       V24       V25  \\\n",
              "0  0.098698  0.363787  ... -0.018307  0.277838 -0.110474  0.066928  0.128539   \n",
              "1  0.085102 -0.255425  ... -0.225775 -0.638672  0.101288 -0.339846  0.167170   \n",
              "2  0.247676 -1.514654  ...  0.247998  0.771679  0.909412 -0.689281 -0.327642   \n",
              "3  0.377436 -1.387024  ... -0.108300  0.005274 -0.190321 -1.175575  0.647376   \n",
              "4 -0.270533  0.817739  ... -0.009431  0.798278 -0.137458  0.141267 -0.206010   \n",
              "\n",
              "        V26       V27       V28  Amount  Class  \n",
              "0 -0.189115  0.133558 -0.021053  149.62      0  \n",
              "1  0.125895 -0.008983  0.014724    2.69      0  \n",
              "2 -0.139097 -0.055353 -0.059752  378.66      0  \n",
              "3 -0.221929  0.062723  0.061458  123.50      0  \n",
              "4  0.502292  0.219422  0.215153   69.99      0  \n",
              "\n",
              "[5 rows x 31 columns]"
            ],
            "text/html": [
              "\n",
              "  <div id=\"df-ebda15c1-85a7-4b40-ba12-0475db836335\">\n",
              "    <div class=\"colab-df-container\">\n",
              "      <div>\n",
              "<style scoped>\n",
              "    .dataframe tbody tr th:only-of-type {\n",
              "        vertical-align: middle;\n",
              "    }\n",
              "\n",
              "    .dataframe tbody tr th {\n",
              "        vertical-align: top;\n",
              "    }\n",
              "\n",
              "    .dataframe thead th {\n",
              "        text-align: right;\n",
              "    }\n",
              "</style>\n",
              "<table border=\"1\" class=\"dataframe\">\n",
              "  <thead>\n",
              "    <tr style=\"text-align: right;\">\n",
              "      <th></th>\n",
              "      <th>Time</th>\n",
              "      <th>V1</th>\n",
              "      <th>V2</th>\n",
              "      <th>V3</th>\n",
              "      <th>V4</th>\n",
              "      <th>V5</th>\n",
              "      <th>V6</th>\n",
              "      <th>V7</th>\n",
              "      <th>V8</th>\n",
              "      <th>V9</th>\n",
              "      <th>...</th>\n",
              "      <th>V21</th>\n",
              "      <th>V22</th>\n",
              "      <th>V23</th>\n",
              "      <th>V24</th>\n",
              "      <th>V25</th>\n",
              "      <th>V26</th>\n",
              "      <th>V27</th>\n",
              "      <th>V28</th>\n",
              "      <th>Amount</th>\n",
              "      <th>Class</th>\n",
              "    </tr>\n",
              "  </thead>\n",
              "  <tbody>\n",
              "    <tr>\n",
              "      <th>0</th>\n",
              "      <td>0.0</td>\n",
              "      <td>-1.359807</td>\n",
              "      <td>-0.072781</td>\n",
              "      <td>2.536347</td>\n",
              "      <td>1.378155</td>\n",
              "      <td>-0.338321</td>\n",
              "      <td>0.462388</td>\n",
              "      <td>0.239599</td>\n",
              "      <td>0.098698</td>\n",
              "      <td>0.363787</td>\n",
              "      <td>...</td>\n",
              "      <td>-0.018307</td>\n",
              "      <td>0.277838</td>\n",
              "      <td>-0.110474</td>\n",
              "      <td>0.066928</td>\n",
              "      <td>0.128539</td>\n",
              "      <td>-0.189115</td>\n",
              "      <td>0.133558</td>\n",
              "      <td>-0.021053</td>\n",
              "      <td>149.62</td>\n",
              "      <td>0</td>\n",
              "    </tr>\n",
              "    <tr>\n",
              "      <th>1</th>\n",
              "      <td>0.0</td>\n",
              "      <td>1.191857</td>\n",
              "      <td>0.266151</td>\n",
              "      <td>0.166480</td>\n",
              "      <td>0.448154</td>\n",
              "      <td>0.060018</td>\n",
              "      <td>-0.082361</td>\n",
              "      <td>-0.078803</td>\n",
              "      <td>0.085102</td>\n",
              "      <td>-0.255425</td>\n",
              "      <td>...</td>\n",
              "      <td>-0.225775</td>\n",
              "      <td>-0.638672</td>\n",
              "      <td>0.101288</td>\n",
              "      <td>-0.339846</td>\n",
              "      <td>0.167170</td>\n",
              "      <td>0.125895</td>\n",
              "      <td>-0.008983</td>\n",
              "      <td>0.014724</td>\n",
              "      <td>2.69</td>\n",
              "      <td>0</td>\n",
              "    </tr>\n",
              "    <tr>\n",
              "      <th>2</th>\n",
              "      <td>1.0</td>\n",
              "      <td>-1.358354</td>\n",
              "      <td>-1.340163</td>\n",
              "      <td>1.773209</td>\n",
              "      <td>0.379780</td>\n",
              "      <td>-0.503198</td>\n",
              "      <td>1.800499</td>\n",
              "      <td>0.791461</td>\n",
              "      <td>0.247676</td>\n",
              "      <td>-1.514654</td>\n",
              "      <td>...</td>\n",
              "      <td>0.247998</td>\n",
              "      <td>0.771679</td>\n",
              "      <td>0.909412</td>\n",
              "      <td>-0.689281</td>\n",
              "      <td>-0.327642</td>\n",
              "      <td>-0.139097</td>\n",
              "      <td>-0.055353</td>\n",
              "      <td>-0.059752</td>\n",
              "      <td>378.66</td>\n",
              "      <td>0</td>\n",
              "    </tr>\n",
              "    <tr>\n",
              "      <th>3</th>\n",
              "      <td>1.0</td>\n",
              "      <td>-0.966272</td>\n",
              "      <td>-0.185226</td>\n",
              "      <td>1.792993</td>\n",
              "      <td>-0.863291</td>\n",
              "      <td>-0.010309</td>\n",
              "      <td>1.247203</td>\n",
              "      <td>0.237609</td>\n",
              "      <td>0.377436</td>\n",
              "      <td>-1.387024</td>\n",
              "      <td>...</td>\n",
              "      <td>-0.108300</td>\n",
              "      <td>0.005274</td>\n",
              "      <td>-0.190321</td>\n",
              "      <td>-1.175575</td>\n",
              "      <td>0.647376</td>\n",
              "      <td>-0.221929</td>\n",
              "      <td>0.062723</td>\n",
              "      <td>0.061458</td>\n",
              "      <td>123.50</td>\n",
              "      <td>0</td>\n",
              "    </tr>\n",
              "    <tr>\n",
              "      <th>4</th>\n",
              "      <td>2.0</td>\n",
              "      <td>-1.158233</td>\n",
              "      <td>0.877737</td>\n",
              "      <td>1.548718</td>\n",
              "      <td>0.403034</td>\n",
              "      <td>-0.407193</td>\n",
              "      <td>0.095921</td>\n",
              "      <td>0.592941</td>\n",
              "      <td>-0.270533</td>\n",
              "      <td>0.817739</td>\n",
              "      <td>...</td>\n",
              "      <td>-0.009431</td>\n",
              "      <td>0.798278</td>\n",
              "      <td>-0.137458</td>\n",
              "      <td>0.141267</td>\n",
              "      <td>-0.206010</td>\n",
              "      <td>0.502292</td>\n",
              "      <td>0.219422</td>\n",
              "      <td>0.215153</td>\n",
              "      <td>69.99</td>\n",
              "      <td>0</td>\n",
              "    </tr>\n",
              "  </tbody>\n",
              "</table>\n",
              "<p>5 rows × 31 columns</p>\n",
              "</div>\n",
              "      <button class=\"colab-df-convert\" onclick=\"convertToInteractive('df-ebda15c1-85a7-4b40-ba12-0475db836335')\"\n",
              "              title=\"Convert this dataframe to an interactive table.\"\n",
              "              style=\"display:none;\">\n",
              "        \n",
              "  <svg xmlns=\"http://www.w3.org/2000/svg\" height=\"24px\"viewBox=\"0 0 24 24\"\n",
              "       width=\"24px\">\n",
              "    <path d=\"M0 0h24v24H0V0z\" fill=\"none\"/>\n",
              "    <path d=\"M18.56 5.44l.94 2.06.94-2.06 2.06-.94-2.06-.94-.94-2.06-.94 2.06-2.06.94zm-11 1L8.5 8.5l.94-2.06 2.06-.94-2.06-.94L8.5 2.5l-.94 2.06-2.06.94zm10 10l.94 2.06.94-2.06 2.06-.94-2.06-.94-.94-2.06-.94 2.06-2.06.94z\"/><path d=\"M17.41 7.96l-1.37-1.37c-.4-.4-.92-.59-1.43-.59-.52 0-1.04.2-1.43.59L10.3 9.45l-7.72 7.72c-.78.78-.78 2.05 0 2.83L4 21.41c.39.39.9.59 1.41.59.51 0 1.02-.2 1.41-.59l7.78-7.78 2.81-2.81c.8-.78.8-2.07 0-2.86zM5.41 20L4 18.59l7.72-7.72 1.47 1.35L5.41 20z\"/>\n",
              "  </svg>\n",
              "      </button>\n",
              "      \n",
              "  <style>\n",
              "    .colab-df-container {\n",
              "      display:flex;\n",
              "      flex-wrap:wrap;\n",
              "      gap: 12px;\n",
              "    }\n",
              "\n",
              "    .colab-df-convert {\n",
              "      background-color: #E8F0FE;\n",
              "      border: none;\n",
              "      border-radius: 50%;\n",
              "      cursor: pointer;\n",
              "      display: none;\n",
              "      fill: #1967D2;\n",
              "      height: 32px;\n",
              "      padding: 0 0 0 0;\n",
              "      width: 32px;\n",
              "    }\n",
              "\n",
              "    .colab-df-convert:hover {\n",
              "      background-color: #E2EBFA;\n",
              "      box-shadow: 0px 1px 2px rgba(60, 64, 67, 0.3), 0px 1px 3px 1px rgba(60, 64, 67, 0.15);\n",
              "      fill: #174EA6;\n",
              "    }\n",
              "\n",
              "    [theme=dark] .colab-df-convert {\n",
              "      background-color: #3B4455;\n",
              "      fill: #D2E3FC;\n",
              "    }\n",
              "\n",
              "    [theme=dark] .colab-df-convert:hover {\n",
              "      background-color: #434B5C;\n",
              "      box-shadow: 0px 1px 3px 1px rgba(0, 0, 0, 0.15);\n",
              "      filter: drop-shadow(0px 1px 2px rgba(0, 0, 0, 0.3));\n",
              "      fill: #FFFFFF;\n",
              "    }\n",
              "  </style>\n",
              "\n",
              "      <script>\n",
              "        const buttonEl =\n",
              "          document.querySelector('#df-ebda15c1-85a7-4b40-ba12-0475db836335 button.colab-df-convert');\n",
              "        buttonEl.style.display =\n",
              "          google.colab.kernel.accessAllowed ? 'block' : 'none';\n",
              "\n",
              "        async function convertToInteractive(key) {\n",
              "          const element = document.querySelector('#df-ebda15c1-85a7-4b40-ba12-0475db836335');\n",
              "          const dataTable =\n",
              "            await google.colab.kernel.invokeFunction('convertToInteractive',\n",
              "                                                     [key], {});\n",
              "          if (!dataTable) return;\n",
              "\n",
              "          const docLinkHtml = 'Like what you see? Visit the ' +\n",
              "            '<a target=\"_blank\" href=https://colab.research.google.com/notebooks/data_table.ipynb>data table notebook</a>'\n",
              "            + ' to learn more about interactive tables.';\n",
              "          element.innerHTML = '';\n",
              "          dataTable['output_type'] = 'display_data';\n",
              "          await google.colab.output.renderOutput(dataTable, element);\n",
              "          const docLink = document.createElement('div');\n",
              "          docLink.innerHTML = docLinkHtml;\n",
              "          element.appendChild(docLink);\n",
              "        }\n",
              "      </script>\n",
              "    </div>\n",
              "  </div>\n",
              "  "
            ]
          },
          "metadata": {},
          "execution_count": 5
        }
      ]
    },
    {
      "cell_type": "code",
      "source": [
        "X = df.drop(['Class'], 1)\n",
        "y = df['Class']"
      ],
      "metadata": {
        "id": "THg-uTbS-RbN"
      },
      "execution_count": null,
      "outputs": []
    },
    {
      "cell_type": "code",
      "source": [
        "X_train, X_test, y_train, y_test = train_test_split(X, y, test_size=0.2, random_state=23)"
      ],
      "metadata": {
        "id": "0BA9cBkT-zKU"
      },
      "execution_count": null,
      "outputs": []
    },
    {
      "cell_type": "code",
      "source": [
        "sc = StandardScaler()\n",
        "X_train = sc.fit_transform(X_train)\n",
        "X_test = sc.transform(X_test)"
      ],
      "metadata": {
        "id": "DRFLNmEC-9xb"
      },
      "execution_count": null,
      "outputs": []
    },
    {
      "cell_type": "code",
      "source": [
        "pca = PCA(n_components=3)\n",
        "X_train = pca.fit_transform(X_train)\n",
        "X_test = pca.transform(X_test)"
      ],
      "metadata": {
        "id": "2BPWcPfo_B-l"
      },
      "execution_count": null,
      "outputs": []
    },
    {
      "cell_type": "code",
      "source": [
        "X_train.shape"
      ],
      "metadata": {
        "colab": {
          "base_uri": "https://localhost:8080/"
        },
        "id": "QGNVt97s_IbP",
        "outputId": "0e3ecf53-bd13-40f4-b52f-8cd56b776d5f"
      },
      "execution_count": null,
      "outputs": [
        {
          "output_type": "execute_result",
          "data": {
            "text/plain": [
              "(227845, 3)"
            ]
          },
          "metadata": {},
          "execution_count": 10
        }
      ]
    },
    {
      "cell_type": "code",
      "source": [
        "X_test.shape"
      ],
      "metadata": {
        "colab": {
          "base_uri": "https://localhost:8080/"
        },
        "id": "CzX9h8a1_MLG",
        "outputId": "a4773225-5d30-41c2-de89-130fc78ff03b"
      },
      "execution_count": null,
      "outputs": [
        {
          "output_type": "execute_result",
          "data": {
            "text/plain": [
              "(56962, 3)"
            ]
          },
          "metadata": {},
          "execution_count": 11
        }
      ]
    },
    {
      "cell_type": "markdown",
      "source": [
        "LINEAR REGRESSION"
      ],
      "metadata": {
        "id": "L9_mF3SFN_SM"
      }
    },
    {
      "cell_type": "code",
      "source": [
        "from sklearn import linear_model, metrics"
      ],
      "metadata": {
        "id": "3pvnMK3WOeVB"
      },
      "execution_count": null,
      "outputs": []
    },
    {
      "cell_type": "code",
      "source": [
        "reg = linear_model.LinearRegression()\n",
        "reg.fit(X_train, y_train)"
      ],
      "metadata": {
        "colab": {
          "base_uri": "https://localhost:8080/"
        },
        "id": "A1j2_njMPWHC",
        "outputId": "ed1a3402-d9a3-4c44-a190-145d67557f5c"
      },
      "execution_count": null,
      "outputs": [
        {
          "output_type": "execute_result",
          "data": {
            "text/plain": [
              "LinearRegression()"
            ]
          },
          "metadata": {},
          "execution_count": 39
        }
      ]
    },
    {
      "cell_type": "code",
      "source": [
        "print('Coefficients: ', reg.coef_)\n",
        "print('Variance score: {}'.format(reg.score(X_test, y_test)))"
      ],
      "metadata": {
        "colab": {
          "base_uri": "https://localhost:8080/"
        },
        "id": "t6y_nek1PY9G",
        "outputId": "48d24f0b-ea0e-4050-ec16-a178445a7409"
      },
      "execution_count": null,
      "outputs": [
        {
          "output_type": "stream",
          "name": "stdout",
          "text": [
            "Coefficients:  [ 0.00012958 -0.00018653 -0.00135775]\n",
            "Variance score: 0.003227057570362901\n"
          ]
        }
      ]
    },
    {
      "cell_type": "code",
      "source": [
        "plt.style.use('fivethirtyeight')\n",
        "plt.scatter(reg.predict(X_train), reg.predict(X_train) - y_train,\n",
        "            color = \"green\", s = 10, label = 'Train data')"
      ],
      "metadata": {
        "colab": {
          "base_uri": "https://localhost:8080/",
          "height": 300
        },
        "id": "IEXYsbzAPcok",
        "outputId": "99394a17-d156-4fb5-8aad-88bf8bbdebd7"
      },
      "execution_count": null,
      "outputs": [
        {
          "output_type": "execute_result",
          "data": {
            "text/plain": [
              "<matplotlib.collections.PathCollection at 0x7f1e06c6e550>"
            ]
          },
          "metadata": {},
          "execution_count": 41
        },
        {
          "output_type": "display_data",
          "data": {
            "text/plain": [
              "<Figure size 432x288 with 1 Axes>"
            ],
            "image/png": "[encoded data removed]"
          },
          "metadata": {}
        }
      ]
    },
    {
      "cell_type": "code",
      "source": [
        "plt.scatter(reg.predict(X_test), reg.predict(X_test) - y_test,\n",
        "            color = \"blue\", s = 10, label = 'Test data')"
      ],
      "metadata": {
        "colab": {
          "base_uri": "https://localhost:8080/",
          "height": 300
        },
        "id": "MgvmdzazPkXL",
        "outputId": "c9a59a45-819e-4769-f0da-4e093132e543"
      },
      "execution_count": null,
      "outputs": [
        {
          "output_type": "execute_result",
          "data": {
            "text/plain": [
              "<matplotlib.collections.PathCollection at 0x7f1e06c38b80>"
            ]
          },
          "metadata": {},
          "execution_count": 42
        },
        {
          "output_type": "display_data",
          "data": {
            "text/plain": [
              "<Figure size 432x288 with 1 Axes>"
            ],
            "image/png": "[encoded data removed]"
          },
          "metadata": {}
        }
      ]
    },
    {
      "cell_type": "code",
      "source": [
        "plt.hlines(y = 0, xmin = 0, xmax = 50, linewidth = 2)\n",
        "plt.legend(loc = 'upper right')\n",
        "plt.title(\"Residual errors\")\n",
        "plt.show()"
      ],
      "metadata": {
        "colab": {
          "base_uri": "https://localhost:8080/",
          "height": 321
        },
        "id": "afRodwn1OCh0",
        "outputId": "0b51556f-f21a-4950-e839-ee4fd48ad6ba"
      },
      "execution_count": null,
      "outputs": [
        {
          "output_type": "stream",
          "name": "stderr",
          "text": [
            "WARNING:matplotlib.legend:No handles with labels found to put in legend.\n"
          ]
        },
        {
          "output_type": "display_data",
          "data": {
            "text/plain": [
              "<Figure size 432x288 with 1 Axes>"
            ],
            "image/png": "[encoded data removed]"
          },
          "metadata": {}
        }
      ]
    },
    {
      "cell_type": "code",
      "source": [],
      "metadata": {
        "id": "5X6_DHyNOIVr"
      },
      "execution_count": null,
      "outputs": []
    },
    {
      "cell_type": "markdown",
      "source": [
        "LOGISTIC REGRESSION\n"
      ],
      "metadata": {
        "id": "5c3pGrKBMhFJ"
      }
    },
    {
      "cell_type": "code",
      "source": [
        "from sklearn import linear_model\n",
        "lrModel = linear_model.LogisticRegression(random_state = 23)\n",
        "lrModel.fit(X_train,y_train)"
      ],
      "metadata": {
        "id": "JEBHrX-8_Q6p",
        "colab": {
          "base_uri": "https://localhost:8080/"
        },
        "outputId": "e0d5fe51-fbc0-4856-ce46-e1aeca5aba82"
      },
      "execution_count": null,
      "outputs": [
        {
          "output_type": "execute_result",
          "data": {
            "text/plain": [
              "LogisticRegression(random_state=23)"
            ]
          },
          "metadata": {},
          "execution_count": 12
        }
      ]
    },
    {
      "cell_type": "code",
      "source": [
        "lrModel.score(X_test, y_test)"
      ],
      "metadata": {
        "id": "x-a40a3R_dVO",
        "colab": {
          "base_uri": "https://localhost:8080/"
        },
        "outputId": "6b5f3ef9-33f1-48a0-dc1b-fe1fd394ebc9"
      },
      "execution_count": null,
      "outputs": [
        {
          "output_type": "execute_result",
          "data": {
            "text/plain": [
              "0.9982619992275552"
            ]
          },
          "metadata": {},
          "execution_count": 13
        }
      ]
    },
    {
      "cell_type": "code",
      "source": [
        "import seaborn as sns"
      ],
      "metadata": {
        "id": "s4eLmJVlTHEL"
      },
      "execution_count": null,
      "outputs": []
    },
    {
      "cell_type": "code",
      "source": [],
      "metadata": {
        "id": "JKR18A0jSs4l"
      },
      "execution_count": null,
      "outputs": []
    },
    {
      "cell_type": "code",
      "source": [],
      "metadata": {
        "id": "vtboQN-3SaXM"
      },
      "execution_count": null,
      "outputs": []
    },
    {
      "cell_type": "markdown",
      "source": [
        "SUPPORT VECTOR MACHINE (SVM)"
      ],
      "metadata": {
        "id": "jb7HAcSSMvHM"
      }
    },
    {
      "cell_type": "code",
      "source": [
        "from sklearn.svm import SVC\n",
        "X_train = X_train[:10000]\n",
        "y_train = y_train[:10000]\n",
        "svmModel = SVC()\n",
        "svmModel.fit(X_train, y_train)"
      ],
      "metadata": {
        "id": "9B7HJ_Mh_oTQ",
        "colab": {
          "base_uri": "https://localhost:8080/"
        },
        "outputId": "fedc4fcf-dac2-43d6-ef06-ac5eaf2012db"
      },
      "execution_count": null,
      "outputs": [
        {
          "output_type": "execute_result",
          "data": {
            "text/plain": [
              "SVC()"
            ]
          },
          "metadata": {},
          "execution_count": 15
        }
      ]
    },
    {
      "cell_type": "code",
      "source": [
        "svmModel.score(X_test, y_test)\n"
      ],
      "metadata": {
        "id": "MoGH3bDdBLMq",
        "colab": {
          "base_uri": "https://localhost:8080/"
        },
        "outputId": "b7ac5d14-002f-4d40-959b-38e408699762"
      },
      "execution_count": null,
      "outputs": [
        {
          "output_type": "execute_result",
          "data": {
            "text/plain": [
              "0.9982619992275552"
            ]
          },
          "metadata": {},
          "execution_count": 16
        }
      ]
    },
    {
      "cell_type": "code",
      "source": [],
      "metadata": {
        "id": "Yx1RphUeSbac"
      },
      "execution_count": null,
      "outputs": []
    },
    {
      "cell_type": "markdown",
      "source": [
        "K NEAREST NEIGHBOUR (KNN) CLASSIFIER"
      ],
      "metadata": {
        "id": "hBlZwxy8NDdy"
      }
    },
    {
      "cell_type": "code",
      "source": [
        "from sklearn.neighbors import KNeighborsRegressor\n",
        "knnModel = KNeighborsRegressor(n_neighbors=30)\n",
        "knnModel.fit(X_train, y_train)"
      ],
      "metadata": {
        "id": "OEflJGVoANgY",
        "colab": {
          "base_uri": "https://localhost:8080/",
          "height": 206
        },
        "outputId": "a5a5775a-9c7b-4c2c-9a75-5da0feebfe31"
      },
      "execution_count": null,
      "outputs": [
        {
          "output_type": "error",
          "ename": "NameError",
          "evalue": "ignored",
          "traceback": [
            "\u001b[0;31m---------------------------------------------------------------------------\u001b[0m",
            "\u001b[0;31mNameError\u001b[0m                                 Traceback (most recent call last)",
            "\u001b[0;32m<ipython-input-1-c537cc8e7053>\u001b[0m in \u001b[0;36m<module>\u001b[0;34m\u001b[0m\n\u001b[1;32m      1\u001b[0m \u001b[0;32mfrom\u001b[0m \u001b[0msklearn\u001b[0m\u001b[0;34m.\u001b[0m\u001b[0mneighbors\u001b[0m \u001b[0;32mimport\u001b[0m \u001b[0mKNeighborsRegressor\u001b[0m\u001b[0;34m\u001b[0m\u001b[0;34m\u001b[0m\u001b[0m\n\u001b[1;32m      2\u001b[0m \u001b[0mknnModel\u001b[0m \u001b[0;34m=\u001b[0m \u001b[0mKNeighborsRegressor\u001b[0m\u001b[0;34m(\u001b[0m\u001b[0mn_neighbors\u001b[0m\u001b[0;34m=\u001b[0m\u001b[0;36m30\u001b[0m\u001b[0;34m)\u001b[0m\u001b[0;34m\u001b[0m\u001b[0;34m\u001b[0m\u001b[0m\n\u001b[0;32m----> 3\u001b[0;31m \u001b[0mknnModel\u001b[0m\u001b[0;34m.\u001b[0m\u001b[0mfit\u001b[0m\u001b[0;34m(\u001b[0m\u001b[0mX_train\u001b[0m\u001b[0;34m,\u001b[0m \u001b[0my_train\u001b[0m\u001b[0;34m)\u001b[0m\u001b[0;34m\u001b[0m\u001b[0;34m\u001b[0m\u001b[0m\n\u001b[0m",
            "\u001b[0;31mNameError\u001b[0m: name 'X_train' is not defined"
          ]
        }
      ]
    },
    {
      "cell_type": "code",
      "source": [
        "knnModel.score(X_test, y_test)"
      ],
      "metadata": {
        "id": "cZMsdsbxARoD",
        "colab": {
          "base_uri": "https://localhost:8080/"
        },
        "outputId": "e7fb9bb9-1aac-46fc-818d-d80b81b73ff5"
      },
      "execution_count": null,
      "outputs": [
        {
          "output_type": "execute_result",
          "data": {
            "text/plain": [
              "-0.0084867574975378"
            ]
          },
          "metadata": {},
          "execution_count": 22
        }
      ]
    },
    {
      "cell_type": "code",
      "source": [],
      "metadata": {
        "id": "REBFy0GrSdEZ"
      },
      "execution_count": null,
      "outputs": []
    },
    {
      "cell_type": "markdown",
      "source": [
        "DECISION TREE"
      ],
      "metadata": {
        "id": "PcAaBXt3NTto"
      }
    },
    {
      "cell_type": "code",
      "source": [
        "from sklearn import tree\n",
        "dtModel = tree.DecisionTreeClassifier(random_state=23)\n",
        "dtModel.fit(X_train, y_train)\n",
        "dtModel.score(X_test, y_test)"
      ],
      "metadata": {
        "colab": {
          "base_uri": "https://localhost:8080/"
        },
        "id": "vKGfecHfAcXk",
        "outputId": "438fec38-3530-41ac-c992-8b0009caaa15"
      },
      "execution_count": null,
      "outputs": [
        {
          "output_type": "execute_result",
          "data": {
            "text/plain": [
              "0.9973139988062217"
            ]
          },
          "metadata": {},
          "execution_count": 23
        }
      ]
    },
    {
      "cell_type": "code",
      "source": [],
      "metadata": {
        "id": "Mx3kagbVSd-1"
      },
      "execution_count": null,
      "outputs": []
    },
    {
      "cell_type": "markdown",
      "source": [
        "RANDOM FOREST"
      ],
      "metadata": {
        "id": "6k4VSuoWNnZK"
      }
    },
    {
      "cell_type": "code",
      "source": [
        "from sklearn.ensemble import RandomForestClassifier\n",
        "rfModel = RandomForestClassifier(n_estimators = 100) \n",
        "rfModel.fit(X_train, y_train)\n",
        "rfModel.score(X_test, y_test)\n",
        "\n"
      ],
      "metadata": {
        "colab": {
          "base_uri": "https://localhost:8080/"
        },
        "id": "ityDFpfoAt11",
        "outputId": "3b9930ef-96fd-41b8-a32a-b2971289d24d"
      },
      "execution_count": null,
      "outputs": [
        {
          "output_type": "execute_result",
          "data": {
            "text/plain": [
              "0.9982619992275552"
            ]
          },
          "metadata": {},
          "execution_count": 24
        }
      ]
    },
    {
      "cell_type": "code",
      "source": [],
      "metadata": {
        "id": "VJPXw0bHSf43"
      },
      "execution_count": null,
      "outputs": []
    },
    {
      "cell_type": "markdown",
      "source": [
        "NAIVE BAYSES\n"
      ],
      "metadata": {
        "id": "MXPrKRr_N1vb"
      }
    },
    {
      "cell_type": "code",
      "source": [
        "from sklearn.naive_bayes import GaussianNB\n",
        "nbModel = GaussianNB()\n",
        "nbModel.fit(X_train, y_train)\n",
        "nbModel.score(X_test, y_test)"
      ],
      "metadata": {
        "colab": {
          "base_uri": "https://localhost:8080/"
        },
        "id": "BxG1WcrKA4Yw",
        "outputId": "58f2439f-6ccb-4591-e999-7a72ca330e88"
      },
      "execution_count": null,
      "outputs": [
        {
          "output_type": "execute_result",
          "data": {
            "text/plain": [
              "0.9940135528949124"
            ]
          },
          "metadata": {},
          "execution_count": 25
        }
      ]
    },
    {
      "cell_type": "code",
      "source": [],
      "metadata": {
        "id": "ZBHj4Hn8Sh4A"
      },
      "execution_count": null,
      "outputs": []
    },
    {
      "cell_type": "markdown",
      "source": [
        "NEURAL NETWORK\n"
      ],
      "metadata": {
        "id": "ykk9JzbQDOSh"
      }
    },
    {
      "cell_type": "code",
      "source": [
        "import tensorflow as tf\n",
        "from tensorflow.keras.models import Sequential\n",
        "from tensorflow.keras.layers import Dense, Dropout\n",
        "from tensorflow.keras.callbacks import EarlyStopping\n"
      ],
      "metadata": {
        "id": "nZvWwkqhBGXf"
      },
      "execution_count": null,
      "outputs": []
    },
    {
      "cell_type": "code",
      "source": [
        "tf.config.list_physical_devices()"
      ],
      "metadata": {
        "colab": {
          "base_uri": "https://localhost:8080/"
        },
        "id": "rXqjoqbACEZY",
        "outputId": "4ed235c0-c13c-47dd-9458-cd2c72645219"
      },
      "execution_count": null,
      "outputs": [
        {
          "output_type": "execute_result",
          "data": {
            "text/plain": [
              "[PhysicalDevice(name='/physical_device:CPU:0', device_type='CPU')]"
            ]
          },
          "metadata": {},
          "execution_count": 29
        }
      ]
    },
    {
      "cell_type": "code",
      "source": [
        "model = Sequential()\n",
        "\n",
        "model.add(Dense(units=3,activation='relu'))\n",
        "model.add(Dense(units=3,activation='relu'))\n",
        "\n",
        "model.add(Dense(units=4,activation='relu'))\n",
        "model.add(Dropout(0.5))\n",
        "\n",
        "\n",
        "model.add(Dense(units=2,activation='relu'))\n",
        "model.add(Dense(units=2,activation='relu'))\n",
        "\n",
        "\n",
        "model.add(Dense(units=1,activation='sigmoid'))\n",
        "\n",
        "model.compile(loss='binary_crossentropy', optimizer='adam')"
      ],
      "metadata": {
        "id": "-ZIHWd2hCKlr"
      },
      "execution_count": null,
      "outputs": []
    },
    {
      "cell_type": "code",
      "source": [
        "early_stop = EarlyStopping(monitor='val_loss', mode='min', verbose=1, patience=100)"
      ],
      "metadata": {
        "id": "6gIlM667CpIH"
      },
      "execution_count": null,
      "outputs": []
    },
    {
      "cell_type": "code",
      "source": [
        "X_train.shape"
      ],
      "metadata": {
        "colab": {
          "base_uri": "https://localhost:8080/"
        },
        "id": "sySxRJIKDEFQ",
        "outputId": "9c836981-dc0e-45b2-be90-9716daf37970"
      },
      "execution_count": null,
      "outputs": [
        {
          "output_type": "execute_result",
          "data": {
            "text/plain": [
              "(10000, 3)"
            ]
          },
          "metadata": {},
          "execution_count": 34
        }
      ]
    },
    {
      "cell_type": "code",
      "source": [
        "model.fit(x=X_train, \n",
        "          y=y_train, \n",
        "          epochs=150,\n",
        "          validation_data=(X_test, y_test),\n",
        "          callbacks=[early_stop]\n",
        "          )"
      ],
      "metadata": {
        "colab": {
          "base_uri": "https://localhost:8080/"
        },
        "id": "d5eI95JgCt0a",
        "outputId": "fa6c81e6-6ef2-48f5-904b-753d5c19e61f"
      },
      "execution_count": null,
      "outputs": [
        {
          "output_type": "stream",
          "name": "stdout",
          "text": [
            "Epoch 1/150\n",
            "313/313 [==============================] - 3s 10ms/step - loss: 0.0099 - val_loss: 0.0129\n",
            "Epoch 2/150\n",
            "313/313 [==============================] - 3s 10ms/step - loss: 0.0099 - val_loss: 0.0129\n",
            "Epoch 3/150\n",
            "313/313 [==============================] - 3s 8ms/step - loss: 0.0099 - val_loss: 0.0129\n",
            "Epoch 4/150\n",
            "313/313 [==============================] - 3s 10ms/step - loss: 0.0099 - val_loss: 0.0129\n",
            "Epoch 5/150\n",
            "313/313 [==============================] - 3s 10ms/step - loss: 0.0099 - val_loss: 0.0129\n",
            "Epoch 6/150\n",
            "313/313 [==============================] - 3s 10ms/step - loss: 0.0099 - val_loss: 0.0129\n",
            "Epoch 7/150\n",
            "313/313 [==============================] - 3s 10ms/step - loss: 0.0099 - val_loss: 0.0129\n",
            "Epoch 8/150\n",
            "313/313 [==============================] - 3s 10ms/step - loss: 0.0099 - val_loss: 0.0129\n",
            "Epoch 9/150\n",
            "313/313 [==============================] - 2s 6ms/step - loss: 0.0099 - val_loss: 0.0129\n",
            "Epoch 10/150\n",
            "313/313 [==============================] - 3s 10ms/step - loss: 0.0099 - val_loss: 0.0129\n",
            "Epoch 11/150\n",
            "313/313 [==============================] - 3s 10ms/step - loss: 0.0099 - val_loss: 0.0129\n",
            "Epoch 12/150\n",
            "313/313 [==============================] - 3s 10ms/step - loss: 0.0099 - val_loss: 0.0129\n",
            "Epoch 13/150\n",
            "313/313 [==============================] - 2s 6ms/step - loss: 0.0099 - val_loss: 0.0129\n",
            "Epoch 14/150\n",
            "313/313 [==============================] - 3s 10ms/step - loss: 0.0099 - val_loss: 0.0129\n",
            "Epoch 15/150\n",
            "313/313 [==============================] - 3s 10ms/step - loss: 0.0099 - val_loss: 0.0129\n",
            "Epoch 16/150\n",
            "313/313 [==============================] - 3s 10ms/step - loss: 0.0099 - val_loss: 0.0129\n",
            "Epoch 17/150\n",
            "313/313 [==============================] - 3s 10ms/step - loss: 0.0099 - val_loss: 0.0129\n",
            "Epoch 18/150\n",
            "313/313 [==============================] - 3s 10ms/step - loss: 0.0099 - val_loss: 0.0129\n",
            "Epoch 19/150\n",
            "313/313 [==============================] - 3s 10ms/step - loss: 0.0099 - val_loss: 0.0129\n",
            "Epoch 20/150\n",
            "313/313 [==============================] - 3s 10ms/step - loss: 0.0099 - val_loss: 0.0129\n",
            "Epoch 21/150\n",
            "313/313 [==============================] - 2s 6ms/step - loss: 0.0099 - val_loss: 0.0129\n",
            "Epoch 22/150\n",
            "313/313 [==============================] - 2s 6ms/step - loss: 0.0099 - val_loss: 0.0129\n",
            "Epoch 23/150\n",
            "313/313 [==============================] - 3s 10ms/step - loss: 0.0099 - val_loss: 0.0129\n",
            "Epoch 24/150\n",
            "313/313 [==============================] - 2s 6ms/step - loss: 0.0099 - val_loss: 0.0129\n",
            "Epoch 25/150\n",
            "313/313 [==============================] - 2s 6ms/step - loss: 0.0099 - val_loss: 0.0129\n",
            "Epoch 26/150\n",
            "313/313 [==============================] - 3s 10ms/step - loss: 0.0099 - val_loss: 0.0129\n",
            "Epoch 27/150\n",
            "313/313 [==============================] - 3s 9ms/step - loss: 0.0099 - val_loss: 0.0129\n",
            "Epoch 28/150\n",
            "313/313 [==============================] - 2s 6ms/step - loss: 0.0099 - val_loss: 0.0129\n",
            "Epoch 29/150\n",
            "313/313 [==============================] - 3s 10ms/step - loss: 0.0099 - val_loss: 0.0129\n",
            "Epoch 30/150\n",
            "313/313 [==============================] - 3s 10ms/step - loss: 0.0099 - val_loss: 0.0129\n",
            "Epoch 31/150\n",
            "313/313 [==============================] - 2s 6ms/step - loss: 0.0099 - val_loss: 0.0129\n",
            "Epoch 32/150\n",
            "313/313 [==============================] - 3s 10ms/step - loss: 0.0099 - val_loss: 0.0129\n",
            "Epoch 33/150\n",
            "313/313 [==============================] - 2s 6ms/step - loss: 0.0099 - val_loss: 0.0129\n",
            "Epoch 34/150\n",
            "313/313 [==============================] - 3s 10ms/step - loss: 0.0099 - val_loss: 0.0129\n",
            "Epoch 35/150\n",
            "313/313 [==============================] - 3s 10ms/step - loss: 0.0099 - val_loss: 0.0129\n",
            "Epoch 36/150\n",
            "313/313 [==============================] - 2s 6ms/step - loss: 0.0099 - val_loss: 0.0129\n",
            "Epoch 37/150\n",
            "313/313 [==============================] - 2s 7ms/step - loss: 0.0099 - val_loss: 0.0129\n",
            "Epoch 38/150\n",
            "313/313 [==============================] - 2s 6ms/step - loss: 0.0099 - val_loss: 0.0129\n",
            "Epoch 39/150\n",
            "313/313 [==============================] - 3s 10ms/step - loss: 0.0099 - val_loss: 0.0129\n",
            "Epoch 40/150\n",
            "313/313 [==============================] - 2s 6ms/step - loss: 0.0099 - val_loss: 0.0129\n",
            "Epoch 41/150\n",
            "313/313 [==============================] - 3s 10ms/step - loss: 0.0099 - val_loss: 0.0129\n",
            "Epoch 42/150\n",
            "313/313 [==============================] - 2s 6ms/step - loss: 0.0099 - val_loss: 0.0129\n",
            "Epoch 43/150\n",
            "313/313 [==============================] - 2s 6ms/step - loss: 0.0099 - val_loss: 0.0129\n",
            "Epoch 44/150\n",
            "313/313 [==============================] - 3s 10ms/step - loss: 0.0099 - val_loss: 0.0129\n",
            "Epoch 45/150\n",
            "313/313 [==============================] - 3s 10ms/step - loss: 0.0099 - val_loss: 0.0129\n",
            "Epoch 46/150\n",
            "313/313 [==============================] - 3s 10ms/step - loss: 0.0099 - val_loss: 0.0129\n",
            "Epoch 47/150\n",
            "313/313 [==============================] - 2s 6ms/step - loss: 0.0099 - val_loss: 0.0129\n",
            "Epoch 48/150\n",
            "313/313 [==============================] - 3s 10ms/step - loss: 0.0099 - val_loss: 0.0129\n",
            "Epoch 49/150\n",
            "313/313 [==============================] - 2s 6ms/step - loss: 0.0099 - val_loss: 0.0129\n",
            "Epoch 50/150\n",
            "313/313 [==============================] - 2s 6ms/step - loss: 0.0099 - val_loss: 0.0129\n",
            "Epoch 51/150\n",
            "313/313 [==============================] - 3s 10ms/step - loss: 0.0099 - val_loss: 0.0129\n",
            "Epoch 52/150\n",
            "313/313 [==============================] - 3s 10ms/step - loss: 0.0099 - val_loss: 0.0129\n",
            "Epoch 53/150\n",
            "313/313 [==============================] - 2s 6ms/step - loss: 0.0099 - val_loss: 0.0129\n",
            "Epoch 54/150\n",
            "313/313 [==============================] - 3s 10ms/step - loss: 0.0099 - val_loss: 0.0129\n",
            "Epoch 55/150\n",
            "313/313 [==============================] - 2s 6ms/step - loss: 0.0099 - val_loss: 0.0129\n",
            "Epoch 56/150\n",
            "313/313 [==============================] - 3s 10ms/step - loss: 0.0099 - val_loss: 0.0129\n",
            "Epoch 57/150\n",
            "313/313 [==============================] - 3s 10ms/step - loss: 0.0099 - val_loss: 0.0129\n",
            "Epoch 58/150\n",
            "313/313 [==============================] - 2s 6ms/step - loss: 0.0099 - val_loss: 0.0129\n",
            "Epoch 59/150\n",
            "313/313 [==============================] - 3s 10ms/step - loss: 0.0099 - val_loss: 0.0129\n",
            "Epoch 60/150\n",
            "313/313 [==============================] - 3s 10ms/step - loss: 0.0099 - val_loss: 0.0128\n",
            "Epoch 61/150\n",
            "313/313 [==============================] - 3s 10ms/step - loss: 0.0099 - val_loss: 0.0128\n",
            "Epoch 62/150\n",
            "313/313 [==============================] - 2s 6ms/step - loss: 0.0099 - val_loss: 0.0128\n",
            "Epoch 63/150\n",
            "313/313 [==============================] - 3s 10ms/step - loss: 0.0099 - val_loss: 0.0128\n",
            "Epoch 64/150\n",
            "313/313 [==============================] - 2s 6ms/step - loss: 0.0099 - val_loss: 0.0128\n",
            "Epoch 65/150\n",
            "313/313 [==============================] - 3s 10ms/step - loss: 0.0099 - val_loss: 0.0128\n",
            "Epoch 66/150\n",
            "313/313 [==============================] - 3s 10ms/step - loss: 0.0099 - val_loss: 0.0128\n",
            "Epoch 67/150\n",
            "313/313 [==============================] - 2s 6ms/step - loss: 0.0099 - val_loss: 0.0128\n",
            "Epoch 68/150\n",
            "313/313 [==============================] - 3s 10ms/step - loss: 0.0099 - val_loss: 0.0128\n",
            "Epoch 69/150\n",
            "313/313 [==============================] - 3s 10ms/step - loss: 0.0099 - val_loss: 0.0128\n",
            "Epoch 70/150\n",
            "313/313 [==============================] - 2s 6ms/step - loss: 0.0099 - val_loss: 0.0129\n",
            "Epoch 71/150\n",
            "313/313 [==============================] - 2s 6ms/step - loss: 0.0099 - val_loss: 0.0129\n",
            "Epoch 72/150\n",
            "313/313 [==============================] - 3s 10ms/step - loss: 0.0099 - val_loss: 0.0128\n",
            "Epoch 73/150\n",
            "313/313 [==============================] - 2s 6ms/step - loss: 0.0099 - val_loss: 0.0129\n",
            "Epoch 74/150\n",
            "313/313 [==============================] - 2s 6ms/step - loss: 0.0099 - val_loss: 0.0129\n",
            "Epoch 75/150\n",
            "313/313 [==============================] - 2s 6ms/step - loss: 0.0099 - val_loss: 0.0129\n",
            "Epoch 76/150\n",
            "313/313 [==============================] - 3s 10ms/step - loss: 0.0099 - val_loss: 0.0128\n",
            "Epoch 77/150\n",
            "313/313 [==============================] - 2s 6ms/step - loss: 0.0099 - val_loss: 0.0129\n",
            "Epoch 78/150\n",
            "313/313 [==============================] - 2s 6ms/step - loss: 0.0099 - val_loss: 0.0129\n",
            "Epoch 79/150\n",
            "313/313 [==============================] - 2s 6ms/step - loss: 0.0099 - val_loss: 0.0129\n",
            "Epoch 80/150\n",
            "313/313 [==============================] - 3s 10ms/step - loss: 0.0099 - val_loss: 0.0128\n",
            "Epoch 81/150\n",
            "313/313 [==============================] - 2s 6ms/step - loss: 0.0099 - val_loss: 0.0129\n",
            "Epoch 82/150\n",
            "313/313 [==============================] - 2s 6ms/step - loss: 0.0099 - val_loss: 0.0129\n",
            "Epoch 83/150\n",
            "313/313 [==============================] - 3s 10ms/step - loss: 0.0099 - val_loss: 0.0129\n",
            "Epoch 84/150\n",
            "313/313 [==============================] - 3s 10ms/step - loss: 0.0099 - val_loss: 0.0129\n",
            "Epoch 85/150\n",
            "313/313 [==============================] - 3s 10ms/step - loss: 0.0099 - val_loss: 0.0128\n",
            "Epoch 86/150\n",
            "313/313 [==============================] - 3s 10ms/step - loss: 0.0099 - val_loss: 0.0129\n",
            "Epoch 87/150\n",
            "313/313 [==============================] - 3s 10ms/step - loss: 0.0099 - val_loss: 0.0129\n",
            "Epoch 88/150\n",
            "313/313 [==============================] - 2s 6ms/step - loss: 0.0099 - val_loss: 0.0129\n",
            "Epoch 89/150\n",
            "313/313 [==============================] - 2s 6ms/step - loss: 0.0099 - val_loss: 0.0129\n",
            "Epoch 90/150\n",
            "313/313 [==============================] - 3s 10ms/step - loss: 0.0099 - val_loss: 0.0129\n",
            "Epoch 91/150\n",
            "313/313 [==============================] - 3s 10ms/step - loss: 0.0099 - val_loss: 0.0128\n",
            "Epoch 92/150\n",
            "313/313 [==============================] - 3s 10ms/step - loss: 0.0099 - val_loss: 0.0128\n",
            "Epoch 93/150\n",
            "313/313 [==============================] - 2s 6ms/step - loss: 0.0099 - val_loss: 0.0129\n",
            "Epoch 94/150\n",
            "313/313 [==============================] - 3s 10ms/step - loss: 0.0099 - val_loss: 0.0128\n",
            "Epoch 95/150\n",
            "313/313 [==============================] - 3s 10ms/step - loss: 0.0099 - val_loss: 0.0128\n",
            "Epoch 96/150\n",
            "313/313 [==============================] - 2s 6ms/step - loss: 0.0099 - val_loss: 0.0128\n",
            "Epoch 97/150\n",
            "313/313 [==============================] - 3s 10ms/step - loss: 0.0099 - val_loss: 0.0128\n",
            "Epoch 98/150\n",
            "313/313 [==============================] - 3s 10ms/step - loss: 0.0099 - val_loss: 0.0128\n",
            "Epoch 99/150\n",
            "313/313 [==============================] - 2s 6ms/step - loss: 0.0099 - val_loss: 0.0128\n",
            "Epoch 100/150\n",
            "313/313 [==============================] - 2s 6ms/step - loss: 0.0099 - val_loss: 0.0128\n",
            "Epoch 101/150\n",
            "313/313 [==============================] - 3s 10ms/step - loss: 0.0099 - val_loss: 0.0129\n",
            "Epoch 102/150\n",
            "313/313 [==============================] - 2s 6ms/step - loss: 0.0099 - val_loss: 0.0128\n",
            "Epoch 103/150\n",
            "313/313 [==============================] - 2s 6ms/step - loss: 0.0099 - val_loss: 0.0128\n",
            "Epoch 104/150\n",
            "313/313 [==============================] - 3s 10ms/step - loss: 0.0099 - val_loss: 0.0129\n",
            "Epoch 105/150\n",
            "313/313 [==============================] - 2s 6ms/step - loss: 0.0099 - val_loss: 0.0129\n",
            "Epoch 106/150\n",
            "313/313 [==============================] - 3s 10ms/step - loss: 0.0099 - val_loss: 0.0128\n",
            "Epoch 107/150\n",
            "313/313 [==============================] - 2s 8ms/step - loss: 0.0099 - val_loss: 0.0129\n",
            "Epoch 108/150\n",
            "313/313 [==============================] - 3s 10ms/step - loss: 0.0099 - val_loss: 0.0128\n",
            "Epoch 109/150\n",
            "313/313 [==============================] - 3s 10ms/step - loss: 0.0099 - val_loss: 0.0129\n",
            "Epoch 110/150\n",
            "313/313 [==============================] - 3s 9ms/step - loss: 0.0099 - val_loss: 0.0128\n",
            "Epoch 111/150\n",
            "313/313 [==============================] - 3s 10ms/step - loss: 0.0099 - val_loss: 0.0128\n",
            "Epoch 112/150\n",
            "313/313 [==============================] - 3s 10ms/step - loss: 0.0099 - val_loss: 0.0128\n",
            "Epoch 113/150\n",
            "313/313 [==============================] - 2s 6ms/step - loss: 0.0099 - val_loss: 0.0128\n",
            "Epoch 114/150\n",
            "313/313 [==============================] - 2s 7ms/step - loss: 0.0099 - val_loss: 0.0128\n",
            "Epoch 115/150\n",
            "313/313 [==============================] - 2s 7ms/step - loss: 0.0099 - val_loss: 0.0128\n",
            "Epoch 116/150\n",
            "313/313 [==============================] - 2s 6ms/step - loss: 0.0099 - val_loss: 0.0128\n",
            "Epoch 117/150\n",
            "313/313 [==============================] - 3s 10ms/step - loss: 0.0099 - val_loss: 0.0129\n",
            "Epoch 118/150\n",
            "313/313 [==============================] - 2s 6ms/step - loss: 0.0099 - val_loss: 0.0128\n",
            "Epoch 119/150\n",
            "313/313 [==============================] - 3s 10ms/step - loss: 0.0099 - val_loss: 0.0128\n",
            "Epoch 120/150\n",
            "313/313 [==============================] - 2s 6ms/step - loss: 0.0099 - val_loss: 0.0128\n",
            "Epoch 121/150\n",
            "313/313 [==============================] - 2s 6ms/step - loss: 0.0099 - val_loss: 0.0129\n",
            "Epoch 122/150\n",
            "313/313 [==============================] - 3s 10ms/step - loss: 0.0099 - val_loss: 0.0129\n",
            "Epoch 123/150\n",
            "313/313 [==============================] - 3s 11ms/step - loss: 0.0099 - val_loss: 0.0129\n",
            "Epoch 124/150\n",
            "313/313 [==============================] - 2s 6ms/step - loss: 0.0099 - val_loss: 0.0129\n",
            "Epoch 125/150\n",
            "313/313 [==============================] - 2s 6ms/step - loss: 0.0099 - val_loss: 0.0128\n",
            "Epoch 126/150\n",
            "313/313 [==============================] - 3s 10ms/step - loss: 0.0099 - val_loss: 0.0128\n",
            "Epoch 127/150\n",
            "313/313 [==============================] - 2s 6ms/step - loss: 0.0099 - val_loss: 0.0128\n",
            "Epoch 128/150\n",
            "313/313 [==============================] - 3s 10ms/step - loss: 0.0099 - val_loss: 0.0128\n",
            "Epoch 129/150\n",
            "313/313 [==============================] - 2s 6ms/step - loss: 0.0099 - val_loss: 0.0128\n",
            "Epoch 130/150\n",
            "313/313 [==============================] - 2s 6ms/step - loss: 0.0099 - val_loss: 0.0128\n",
            "Epoch 131/150\n",
            "313/313 [==============================] - 3s 10ms/step - loss: 0.0099 - val_loss: 0.0128\n",
            "Epoch 132/150\n",
            "313/313 [==============================] - 2s 6ms/step - loss: 0.0099 - val_loss: 0.0129\n",
            "Epoch 133/150\n",
            "313/313 [==============================] - 2s 6ms/step - loss: 0.0099 - val_loss: 0.0128\n",
            "Epoch 134/150\n",
            "313/313 [==============================] - 3s 10ms/step - loss: 0.0099 - val_loss: 0.0129\n",
            "Epoch 135/150\n",
            "313/313 [==============================] - 3s 10ms/step - loss: 0.0099 - val_loss: 0.0128\n",
            "Epoch 136/150\n",
            "313/313 [==============================] - 3s 10ms/step - loss: 0.0099 - val_loss: 0.0128\n",
            "Epoch 137/150\n",
            "313/313 [==============================] - 2s 6ms/step - loss: 0.0099 - val_loss: 0.0129\n",
            "Epoch 138/150\n",
            "313/313 [==============================] - 3s 10ms/step - loss: 0.0099 - val_loss: 0.0129\n",
            "Epoch 139/150\n",
            "313/313 [==============================] - 2s 6ms/step - loss: 0.0099 - val_loss: 0.0129\n",
            "Epoch 140/150\n",
            "313/313 [==============================] - 3s 10ms/step - loss: 0.0099 - val_loss: 0.0128\n",
            "Epoch 141/150\n",
            "313/313 [==============================] - 3s 8ms/step - loss: 0.0099 - val_loss: 0.0129\n",
            "Epoch 142/150\n",
            "313/313 [==============================] - 3s 11ms/step - loss: 0.0099 - val_loss: 0.0129\n",
            "Epoch 143/150\n",
            "313/313 [==============================] - 3s 10ms/step - loss: 0.0099 - val_loss: 0.0129\n",
            "Epoch 144/150\n",
            "313/313 [==============================] - 3s 10ms/step - loss: 0.0099 - val_loss: 0.0128\n",
            "Epoch 145/150\n",
            "313/313 [==============================] - 3s 10ms/step - loss: 0.0099 - val_loss: 0.0129\n",
            "Epoch 146/150\n",
            "313/313 [==============================] - 2s 6ms/step - loss: 0.0099 - val_loss: 0.0129\n",
            "Epoch 147/150\n",
            "313/313 [==============================] - 3s 10ms/step - loss: 0.0099 - val_loss: 0.0128\n",
            "Epoch 148/150\n",
            "313/313 [==============================] - 2s 6ms/step - loss: 0.0099 - val_loss: 0.0129\n",
            "Epoch 149/150\n",
            "313/313 [==============================] - 3s 9ms/step - loss: 0.0099 - val_loss: 0.0129\n",
            "Epoch 150/150\n",
            "313/313 [==============================] - 3s 10ms/step - loss: 0.0099 - val_loss: 0.0129\n"
          ]
        },
        {
          "output_type": "execute_result",
          "data": {
            "text/plain": [
              "<keras.callbacks.History at 0x7fc181d19730>"
            ]
          },
          "metadata": {},
          "execution_count": 39
        }
      ]
    },
    {
      "cell_type": "code",
      "source": [
        "model_loss = pd.DataFrame(model.history.history)\n",
        "model_loss.plot()"
      ],
      "metadata": {
        "colab": {
          "base_uri": "https://localhost:8080/",
          "height": 287
        },
        "id": "1Q1FJFL1GjLU",
        "outputId": "d7bc6da1-5554-4846-be71-fa36caf50981"
      },
      "execution_count": null,
      "outputs": [
        {
          "output_type": "execute_result",
          "data": {
            "text/plain": [
              "<matplotlib.axes._subplots.AxesSubplot at 0x7fc184558070>"
            ]
          },
          "metadata": {},
          "execution_count": 40
        },
        {
          "output_type": "display_data",
          "data": {
            "text/plain": [
              "<Figure size 432x288 with 1 Axes>"
            ],
            "image/png": "[encoded data removed]"
          },
          "metadata": {
            "needs_background": "light"
          }
        }
      ]
    },
    {
      "cell_type": "code",
      "source": [
        "predictions = model.predict(X_test)"
      ],
      "metadata": {
        "colab": {
          "base_uri": "https://localhost:8080/"
        },
        "id": "Jb7fNIYhGjAk",
        "outputId": "b100e710-bb9b-4ca8-a164-b935e6d2d5ae"
      },
      "execution_count": null,
      "outputs": [
        {
          "output_type": "stream",
          "name": "stdout",
          "text": [
            "1781/1781 [==============================] - 2s 976us/step\n"
          ]
        }
      ]
    },
    {
      "cell_type": "code",
      "source": [
        "predictions = predictions > 0.5\n",
        "print(classification_report(y_test,predictions))"
      ],
      "metadata": {
        "colab": {
          "base_uri": "https://localhost:8080/"
        },
        "id": "kLLw2KV8GuNq",
        "outputId": "302efc48-8d81-4a27-952f-670308af3d28"
      },
      "execution_count": null,
      "outputs": [
        {
          "output_type": "stream",
          "name": "stdout",
          "text": [
            "              precision    recall  f1-score   support\n",
            "\n",
            "           0       1.00      1.00      1.00     56863\n",
            "           1       0.00      0.00      0.00        99\n",
            "\n",
            "    accuracy                           1.00     56962\n",
            "   macro avg       0.50      0.50      0.50     56962\n",
            "weighted avg       1.00      1.00      1.00     56962\n",
            "\n"
          ]
        }
      ]
    },
    {
      "cell_type": "code",
      "source": [
        "print(confusion_matrix(y_test,predictions))"
      ],
      "metadata": {
        "colab": {
          "base_uri": "https://localhost:8080/"
        },
        "id": "ZOjaetlcGt_j",
        "outputId": "6df680ae-5776-4c33-ecac-4faa021db2a3"
      },
      "execution_count": null,
      "outputs": [
        {
          "output_type": "stream",
          "name": "stdout",
          "text": [
            "[[56863     0]\n",
            " [   99     0]]\n"
          ]
        }
      ]
    },
    {
      "cell_type": "code",
      "source": [],
      "metadata": {
        "id": "Z5Ru0QEjGt1L"
      },
      "execution_count": null,
      "outputs": []
    },
    {
      "cell_type": "code",
      "source": [],
      "metadata": {
        "id": "YyPZVWIWGizy"
      },
      "execution_count": null,
      "outputs": []
    },
    {
      "cell_type": "code",
      "source": [],
      "metadata": {
        "id": "uW7r---BGiea"
      },
      "execution_count": null,
      "outputs": []
    }
  ]
}